{
 "cells": [
  {
   "cell_type": "code",
   "execution_count": 5,
   "id": "1ccc6574",
   "metadata": {},
   "outputs": [
    {
     "name": "stderr",
     "output_type": "stream",
     "text": [
      "C:\\Users\\jeeva\\AppData\\Local\\Temp\\ipykernel_15292\\3262821775.py:10: FutureWarning: YF.download() has changed argument auto_adjust default to True\n",
      "  stock = yf.download(symbol, start=start, end=end, interval=interval)\n",
      "[*********************100%***********************]  1 of 1 completed"
     ]
    },
    {
     "name": "stdout",
     "output_type": "stream",
     "text": [
      "Price        Date       Close        High         Low        Open      Volume\n",
      "Ticker            RELIANCE.NS RELIANCE.NS RELIANCE.NS RELIANCE.NS RELIANCE.NS\n",
      "0      2020-01-01  675.324158  683.152852  673.490062  679.081936    14004468\n",
      "1      2020-01-02  686.821228  689.348791  676.397899  676.397899    17710316\n",
      "2      2020-01-03  687.648865  689.661956  681.318790  685.792313    20984698\n",
      "3      2020-01-06  671.700684  683.510767  670.134933  679.976719    24519177\n",
      "4      2020-01-07  682.034546  686.463335  677.068889  679.529321    16683622\n"
     ]
    },
    {
     "name": "stderr",
     "output_type": "stream",
     "text": [
      "\n"
     ]
    }
   ],
   "source": [
    "#HISTORICAL DATA\n",
    "\n",
    "import yfinance as yf\n",
    "import pandas as pd\n",
    "\n",
    "def get_stock_data(symbol, start=\"2015-01-01\", end=None, interval=\"1d\"):\n",
    "    \"\"\"\n",
    "    Fetch historical stock data from Yahoo Finance.\n",
    "    \"\"\"\n",
    "    stock = yf.download(symbol, start=start, end=end, interval=interval)\n",
    "    stock.reset_index(inplace=True)\n",
    "    return stock\n",
    "\n",
    "\n",
    "symbol = \"RELIANCE.NS\"  \n",
    "df = get_stock_data(symbol, start=\"2020-01-01\", interval=\"1d\")\n",
    "\n",
    "print(df.head())   \n"
   ]
  },
  {
   "cell_type": "code",
   "execution_count": 4,
   "id": "e51aaa39",
   "metadata": {},
   "outputs": [
    {
     "name": "stdout",
     "output_type": "stream",
     "text": [
      "Latest price of HDFCBANK.NS: ₹966.10\n"
     ]
    }
   ],
   "source": [
    "#LIVE DATA\n",
    "\n",
    "import yfinance as yf\n",
    "\n",
    "def get_latest_price(symbol):\n",
    "    \"\"\"\n",
    "    Fetch the latest stock price.\n",
    "    \"\"\"\n",
    "    ticker = yf.Ticker(symbol)\n",
    "    todays_data = ticker.history(period=\"1d\")\n",
    "    return todays_data[\"Close\"].iloc[-1]\n",
    "\n",
    "\n",
    "symbol = \"HDFCBANK.NS\"  \n",
    "price = get_latest_price(symbol)\n",
    "\n",
    "print(f\"Latest price of {symbol}: ₹{price:.2f}\")\n"
   ]
  }
 ],
 "metadata": {
  "kernelspec": {
   "display_name": ".venv",
   "language": "python",
   "name": "python3"
  },
  "language_info": {
   "codemirror_mode": {
    "name": "ipython",
    "version": 3
   },
   "file_extension": ".py",
   "mimetype": "text/x-python",
   "name": "python",
   "nbconvert_exporter": "python",
   "pygments_lexer": "ipython3",
   "version": "3.13.7"
  }
 },
 "nbformat": 4,
 "nbformat_minor": 5
}
